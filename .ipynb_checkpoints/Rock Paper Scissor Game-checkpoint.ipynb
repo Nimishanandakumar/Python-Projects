{
 "cells": [
  {
   "cell_type": "code",
   "execution_count": 1,
   "id": "e8656e91",
   "metadata": {},
   "outputs": [
    {
     "data": {
      "text/plain": [
       "'\\n1.Input from the user(Rock,Paper,Scissor)\\n2.Computer Choice(Random choice)\\n3. Result print\\n\\n\\n'"
      ]
     },
     "execution_count": 1,
     "metadata": {},
     "output_type": "execute_result"
    }
   ],
   "source": [
    "\"\"\"\n",
    "1.Input from the user(Rock,Paper,Scissor)\n",
    "2.Computer Choice(Random choice)\n",
    "3. Result print\n",
    "\n",
    "\n",
    "\"\"\""
   ]
  },
  {
   "cell_type": "code",
   "execution_count": 6,
   "id": "410714fd",
   "metadata": {},
   "outputs": [
    {
     "name": "stdout",
     "output_type": "stream",
     "text": [
      "Enter your choice = Rock,Paper,ScissorPaper\n",
      "User choice = Paper, Computer choice =Rock\n",
      "Paper covers Rock = You Win\n"
     ]
    }
   ],
   "source": [
    "import random\n",
    "\n",
    "item_list = [\"Rock\", \"Paper\", \"Scissor\"]\n",
    "user_choice = input(\"Enter your choice = Rock,Paper,Scissor\")\n",
    "comp_choice = random.choice(item_list)\n",
    "\n",
    "print(f\"User choice = {user_choice}, Computer choice ={comp_choice}\")\n",
    "\n",
    "\n",
    "if user_choice == comp_choice:\n",
    "    print(\"Both chooses same: Match Tie\")\n",
    "    \n",
    "elif user_choice ==\"Rock\":\n",
    "    if comp_choice == \"Paper\":\n",
    "        print(\"Paper covers Rock = Computer Win\")\n",
    "    else:\n",
    "        print(\"Rock smashes Scissor = You Win\")\n",
    "        \n",
    "elif user_choice ==\"Paper\":\n",
    "        if comp_choice == \"Scissor\":\n",
    "            print(\"Scissor cut paper = Computer Win\")\n",
    "        else:\n",
    "            print(\"Paper covers Rock = You Win\")\n",
    "                \n",
    "elif user_choice ==\"Scissor\":\n",
    "        if comp_choice == \"Rock\":\n",
    "            print(\"Rock smashes Scissor= Computer Win\")\n",
    "        else:\n",
    "            print(\"Scissor cut paper = You Win\")\n",
    "    "
   ]
  },
  {
   "cell_type": "code",
   "execution_count": null,
   "id": "c618c990",
   "metadata": {},
   "outputs": [],
   "source": []
  }
 ],
 "metadata": {
  "kernelspec": {
   "display_name": "Python 3 (ipykernel)",
   "language": "python",
   "name": "python3"
  },
  "language_info": {
   "codemirror_mode": {
    "name": "ipython",
    "version": 3
   },
   "file_extension": ".py",
   "mimetype": "text/x-python",
   "name": "python",
   "nbconvert_exporter": "python",
   "pygments_lexer": "ipython3",
   "version": "3.11.5"
  }
 },
 "nbformat": 4,
 "nbformat_minor": 5
}
