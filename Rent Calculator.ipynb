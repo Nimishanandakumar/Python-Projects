{
 "cells": [
  {
   "cell_type": "code",
   "execution_count": 1,
   "id": "dec9fd80",
   "metadata": {},
   "outputs": [],
   "source": [
    "# Inputs \n",
    "# Total Rent\n",
    "# Food Price\n",
    "# Electricity units spend\n",
    "# Electricity charge per unit\n",
    "# Total number of persons living in a room"
   ]
  },
  {
   "cell_type": "code",
   "execution_count": 2,
   "id": "ec33d190",
   "metadata": {},
   "outputs": [],
   "source": [
    "# Output\n",
    "# Total Amount to be paid per person"
   ]
  },
  {
   "cell_type": "code",
   "execution_count": 6,
   "id": "c71eb975",
   "metadata": {},
   "outputs": [
    {
     "name": "stdout",
     "output_type": "stream",
     "text": [
      "Enter the rent = 10000\n",
      "Enter the food expense = 2500\n",
      "Enter the total of eletricity spend = 30\n",
      "Enter the charge per unit = 3\n",
      "Enter no. of persons living in a room = 2\n",
      "Each person will pay =  6295.0\n"
     ]
    }
   ],
   "source": [
    "rent = int(input(\"Enter the rent = \"))\n",
    "food = int(input(\"Enter the food expense = \"))\n",
    "electricity_spend =int(input(\"Enter the total of eletricity spend = \"))\n",
    "charge_per_unit = int(input(\"Enter the charge per unit = \"))\n",
    "persons = int(input(\"Enter no. of persons living in a room = \"))\n",
    "\n",
    "total_electricity_bill = electricity_spend*charge_per_unit\n",
    "\n",
    "total_amount_per_person = (food + rent + total_electricity_bill)/persons\n",
    "\n",
    "print(\"Each person will pay = \",total_amount_per_person)\n",
    "                      "
   ]
  },
  {
   "cell_type": "code",
   "execution_count": null,
   "id": "95cc250d",
   "metadata": {},
   "outputs": [],
   "source": []
  }
 ],
 "metadata": {
  "kernelspec": {
   "display_name": "Python 3 (ipykernel)",
   "language": "python",
   "name": "python3"
  },
  "language_info": {
   "codemirror_mode": {
    "name": "ipython",
    "version": 3
   },
   "file_extension": ".py",
   "mimetype": "text/x-python",
   "name": "python",
   "nbconvert_exporter": "python",
   "pygments_lexer": "ipython3",
   "version": "3.11.5"
  }
 },
 "nbformat": 4,
 "nbformat_minor": 5
}
